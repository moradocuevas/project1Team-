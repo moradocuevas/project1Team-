{
 "cells": [
  {
   "cell_type": "code",
   "execution_count": null,
   "metadata": {},
   "outputs": [],
   "source": [
    "import json\n",
    "import requests\n",
    "import numpy as np\n",
    "import pandas as pd\n",
    "import Api_Request as ap\n",
    "import Morado_Read as mr\n",
    "import Countries2 as co\n",
    "import matplotlib.pyplot as plt\n",
    "from matplotlib.font_manager import FontProperties"
   ]
  },
  {
   "cell_type": "code",
   "execution_count": null,
   "metadata": {
    "scrolled": true
   },
   "outputs": [],
   "source": [
    "coso2 = mr.csv()\n",
    "developedM = coso2['Developed']\n",
    "developingM = coso2['Developing']\n",
    "underdevelopedM = coso2['Underdeveloped']\n",
    "Ydeveloped = developedM.loc[['2010', '2011', '2012', '2013', '2014', '2015', '2016']]\n",
    "Ydeveloping = developingM.loc[['2010', '2011', '2012', '2013', '2014', '2015', '2016']]\n",
    "Yunderdeveloped = underdevelopedM.loc[['2010', '2011', '2012', '2013', '2014', '2015', '2016']]\n",
    "test = Ydeveloped.join(Ydeveloping, how='left')\n",
    "full_poll = test.join(Yunderdeveloped, how='left')\n",
    "full_poll"
   ]
  },
  {
   "cell_type": "code",
   "execution_count": null,
   "metadata": {
    "scrolled": true
   },
   "outputs": [],
   "source": [
    "coso3 = co.countries()\n",
    "trans = coso3.T\n",
    "columna = trans.iloc[0]\n",
    "data = trans[1:-1]\n",
    "data2 = data.rename(columns = columna)\n",
    "data3 = data2.loc[:,['France', 'United Kingdom', 'Japan', 'Mexico', 'Thailand', 'Turkey', 'Egypt, Arab Rep.', 'Philippines', 'Vietnam']]\n",
    "full_gdp = data3.loc[['2010', '2011', '2012', '2013', '2014', '2015', '2016']]\n",
    "full_gdp"
   ]
  },
  {
   "cell_type": "code",
   "execution_count": null,
   "metadata": {
    "scrolled": true
   },
   "outputs": [],
   "source": [
    "#fig = plt.figure()\n",
    "#ax = fig.add_subplot(111)\n",
    "#ax.plot(full_gdp.index, full_gdp['France'], color='Black')\n",
    "#ax2 = fig.add_subplot(222)\n",
    "#ax2.plot(full_gdp.index, full_gdp['France'], color='Black')\n",
    "#plt.show()"
   ]
  },
  {
   "cell_type": "code",
   "execution_count": null,
   "metadata": {},
   "outputs": [],
   "source": [
    "fontP = FontProperties()\n",
    "fontP.set_size('small')\n",
    "\n",
    "fig = plt.figure()\n",
    "fig, (ax1, ax2) = plt.subplots(2)\n",
    "ax1.plot(full_gdp.index, full_gdp['France'], color='Green')\n",
    "ax1.plot(full_gdp.index, full_gdp['United Kingdom'], color='darkgreen')\n",
    "ax1.plot(full_gdp.index, full_gdp['Japan'], color='darkseagreen')\n",
    "ax1.plot(full_gdp.index, full_gdp['Mexico'], color='Gold')\n",
    "ax1.plot(full_gdp.index, full_gdp['Thailand'], color='Yellow')\n",
    "ax1.plot(full_gdp.index, full_gdp['Turkey'], color='Orange')\n",
    "ax1.plot(full_gdp.index, full_gdp['Egypt, Arab Rep.'], color='red')\n",
    "ax1.plot(full_gdp.index, full_gdp['Philippines'], color='brown')\n",
    "ax1.plot(full_gdp.index, full_gdp['Vietnam'], color='firebrick')\n",
    "ax2.plot(full_poll.index, full_poll['France'], color='Green')\n",
    "ax2.plot(full_poll.index, full_poll['United Kingdom'], color='darkgreen')\n",
    "ax2.plot(full_poll.index, full_poll['Japan'], color='darkseagreen')\n",
    "ax2.plot(full_poll.index, full_poll['Mexico'], color='Gold')\n",
    "ax2.plot(full_poll.index, full_poll['Thailand'], color='Yellow')\n",
    "ax2.plot(full_poll.index, full_poll['Turkey'], color='Orange')\n",
    "ax2.plot(full_poll.index, full_poll['Egypt, Arab Rep.'], color='red')\n",
    "ax2.plot(full_poll.index, full_poll['Philippines'], color='brown')\n",
    "ax2.plot(full_poll.index, full_poll['Vietnam'], color='firebrick')\n",
    "ax1.legend(loc='center left', bbox_to_anchor=(1, 0.5))\n",
    "#ax1.legend()\n",
    "plt.savefig('Pollution and GDP')\n",
    "plt.show()"
   ]
  },
  {
   "cell_type": "code",
   "execution_count": null,
   "metadata": {},
   "outputs": [],
   "source": [
    "co.countries()"
   ]
  },
  {
   "cell_type": "code",
   "execution_count": null,
   "metadata": {},
   "outputs": [],
   "source": [
    "coso2 = mr.csv()\n",
    "developed = coso2 [\"Developed\"]\n",
    "developed.head()"
   ]
  },
  {
   "cell_type": "code",
   "execution_count": null,
   "metadata": {},
   "outputs": [],
   "source": [
    "developed.index"
   ]
  },
  {
   "cell_type": "code",
   "execution_count": null,
   "metadata": {},
   "outputs": [],
   "source": [
    "countries = []\n",
    "level = []\n",
    "for key, df in coso2.items():\n",
    "    countries_df = list(df.columns)\n",
    "    levels_df = [key, key, key]\n",
    "    countries.extend(countries_df)\n",
    "    level.extend(levels_df)\n",
    "df_nivel = pd.DataFrame({\"countries\": countries,\"level\": level})"
   ]
  },
  {
   "cell_type": "code",
   "execution_count": null,
   "metadata": {},
   "outputs": [],
   "source": [
    "df_list = []\n",
    "# Hacer una lista con los dataframes de\n",
    "# paises de diferente tipo (developed, developing y underdeveloped)\n",
    "for key in coso2:\n",
    "    df_list.append(coso2[key])\n",
    "# Hacer una concatenación por el eje de las columnas\n",
    "# en un mismo dataframe\n",
    "df_countries = pd.concat(df_list, axis=1)"
   ]
  },
  {
   "cell_type": "code",
   "execution_count": null,
   "metadata": {},
   "outputs": [],
   "source": [
    "df_countries"
   ]
  },
  {
   "cell_type": "code",
   "execution_count": null,
   "metadata": {},
   "outputs": [],
   "source": [
    "list_countries = list(df_countries.columns)\n",
    "markers = ['^','^','^','o','o','o','v','v','v']"
   ]
  },
  {
   "cell_type": "code",
   "execution_count": null,
   "metadata": {},
   "outputs": [],
   "source": [
    "list_countries"
   ]
  },
  {
   "cell_type": "code",
   "execution_count": null,
   "metadata": {
    "scrolled": true
   },
   "outputs": [],
   "source": [
    "fig, ax = plt.subplots(figsize=(14,10))\n",
    "\n",
    "for country,z in zip(list_countries,markers):\n",
    "    \n",
    "    ax.scatter(df_countries.index, df_countries[country],\n",
    "                          label=country,marker=z,s=150)    \n",
    "ax.legend()\n",
    "\n",
    "plt.title('Similarities Pollution')\n",
    "plt.xlabel('Years')\n",
    "plt.ylabel('CO2')\n",
    "plt.grid()\n",
    "\n",
    "fig.savefig(\"Similarities_Pollution\", dpi=300)"
   ]
  },
  {
   "cell_type": "code",
   "execution_count": null,
   "metadata": {
    "scrolled": true
   },
   "outputs": [],
   "source": [
    "#BAR CHART\n",
    "#How much renewable energies does the countries use?"
   ]
  },
  {
   "cell_type": "code",
   "execution_count": null,
   "metadata": {
    "scrolled": true
   },
   "outputs": [],
   "source": [
    "coso = ap.Api_requests()\n",
    "\n",
    "print(coso)"
   ]
  },
  {
   "cell_type": "code",
   "execution_count": null,
   "metadata": {},
   "outputs": [],
   "source": [
    "type(coso)"
   ]
  },
  {
   "cell_type": "code",
   "execution_count": null,
   "metadata": {},
   "outputs": [],
   "source": [
    "coso.keys()"
   ]
  },
  {
   "cell_type": "code",
   "execution_count": null,
   "metadata": {},
   "outputs": [],
   "source": [
    "# Set the index to be \"Countries\" so they will be used as labels\n",
    "for key,df in coso.items():\n",
    "    df[\"Country\"]= key"
   ]
  },
  {
   "cell_type": "code",
   "execution_count": null,
   "metadata": {},
   "outputs": [],
   "source": [
    "df_renewable= []\n",
    "\n",
    "for key,df in coso.items():\n",
    "    df_renewable.append(df)"
   ]
  },
  {
   "cell_type": "code",
   "execution_count": null,
   "metadata": {},
   "outputs": [],
   "source": [
    "df_countries= pd.concat(df_renewable)"
   ]
  },
  {
   "cell_type": "code",
   "execution_count": null,
   "metadata": {},
   "outputs": [],
   "source": [
    "df_countries.head()"
   ]
  },
  {
   "cell_type": "code",
   "execution_count": null,
   "metadata": {},
   "outputs": [],
   "source": [
    "pivot_df = df_countries.pivot(index='Date', columns='Country', values='Electricity production from renewable sources, excluding hydroelectric (% of total)')\n",
    "\n",
    "pivot_df.head()"
   ]
  },
  {
   "cell_type": "code",
   "execution_count": null,
   "metadata": {},
   "outputs": [],
   "source": [
    "fig, ax = plt.subplots(figsize=(14,10))\n",
    "colors =\"salmon\", \"skyblue\",\"darkseagreen\",\"b\",\"gold\",\"darkgreen\", \"grey\",\"plum\",\"red\"\n",
    "\n",
    "pivot_df.loc[:,['jp','gb', 'fr',\"mx\",\"tr\",\"th\",\"ph\",\"eg\",\"vn\"]].plot.bar(stacked=True, color=colors, figsize=(10,7),grid=True, ax=ax)\n",
    "\n",
    "\n",
    "fig.savefig(\"Renawable_Use\", dpi=300)"
   ]
  },
  {
   "cell_type": "code",
   "execution_count": null,
   "metadata": {},
   "outputs": [],
   "source": [
    "pivotcoals_df = df_countries.pivot(index='Date', columns='Country', values='Electricity production from coal sources (% of total)')\n",
    "pivotcoals_df.head()"
   ]
  },
  {
   "cell_type": "code",
   "execution_count": null,
   "metadata": {},
   "outputs": [],
   "source": [
    "fig, ax = plt.subplots(figsize=(14,10))\n",
    "\n",
    "colors =\"salmon\", \"skyblue\",\"darkseagreen\",\"b\",\"gold\",\"darkgreen\", \"grey\",\"plum\",\"red\"\n",
    "\n",
    "pivotcoals_df.loc[:,['jp','gb', 'fr',\"mx\",\"tr\",\"th\",\"ph\",\"eg\",\"vn\"]].plot.bar(stacked=True, color=colors, figsize=(10,7),grid=True, ax=ax)\n",
    "\n",
    "\n",
    "fig.savefig(\"Coals_Use\", dpi=300)"
   ]
  },
  {
   "cell_type": "code",
   "execution_count": null,
   "metadata": {},
   "outputs": [],
   "source": [
    "df_countries.head()"
   ]
  },
  {
   "cell_type": "code",
   "execution_count": null,
   "metadata": {},
   "outputs": [],
   "source": [
    "#cols = [9,10]\n",
    "#df_countries.drop(df.columns[cols],axis=1,inplace=True)"
   ]
  },
  {
   "cell_type": "code",
   "execution_count": null,
   "metadata": {},
   "outputs": [],
   "source": [
    "df_countries.head()"
   ]
  },
  {
   "cell_type": "code",
   "execution_count": null,
   "metadata": {},
   "outputs": [],
   "source": [
    "#fig, ax = plt.subplots(2, 3, sharex='col', sharey='row')"
   ]
  },
  {
   "cell_type": "code",
   "execution_count": null,
   "metadata": {},
   "outputs": [],
   "source": [
    "print(df_countries.columns.values)"
   ]
  },
  {
   "cell_type": "code",
   "execution_count": null,
   "metadata": {},
   "outputs": [],
   "source": [
    "df_bubble = df_countries[[\"Electricity production from coal sources (% of total)\",\"Date\",\"Country\"]]\n",
    "df_bubble"
   ]
  },
  {
   "cell_type": "code",
   "execution_count": null,
   "metadata": {},
   "outputs": [],
   "source": [
    "deve = []\n",
    "\n",
    "for country in df_bubble['Country']:        \n",
    "    if country == \"jp\":\n",
    "        deve.append('Developed') \n",
    "    elif country == \"fr\":                  \n",
    "        deve.append('Developed') \n",
    "    elif country == \"gb\":                  \n",
    "        deve.append('Developed') \n",
    "    elif country == \"mx\":                  \n",
    "        deve.append(\"Developing\") \n",
    "    elif country == \"th\":                  \n",
    "        deve.append(\"Developing\")\n",
    "    elif country == \"tr\":                  \n",
    "        deve.append(\"Developing\")\n",
    "    else: \n",
    "        deve.append(\"Underdeveloped\") \n",
    "\n",
    "df_bubble[\"deve\"] = deve \n",
    "df_bubble"
   ]
  },
  {
   "cell_type": "code",
   "execution_count": null,
   "metadata": {},
   "outputs": [],
   "source": [
    "y_axis = {}\n",
    "for i, country in enumerate(df_bubble[\"Country\"].unique()):\n",
    "    y_axis[country] = i * 5\n",
    "df_bubble[\"y_axis\"] = df_bubble[\"Country\"].apply(lambda x: y_axis[x])"
   ]
  },
  {
   "cell_type": "code",
   "execution_count": null,
   "metadata": {},
   "outputs": [],
   "source": [
    "y_labels = list(df_bubble.sort_values(by=\"y_axis\")[\"Country\"].unique())"
   ]
  },
  {
   "cell_type": "code",
   "execution_count": null,
   "metadata": {},
   "outputs": [],
   "source": [
    "y_labels = [\"\"] + y_labels"
   ]
  },
  {
   "cell_type": "code",
   "execution_count": null,
   "metadata": {},
   "outputs": [],
   "source": [
    "y_axis"
   ]
  },
  {
   "cell_type": "code",
   "execution_count": null,
   "metadata": {},
   "outputs": [],
   "source": [
    "ax.annotate?"
   ]
  },
  {
   "cell_type": "code",
   "execution_count": null,
   "metadata": {},
   "outputs": [],
   "source": [
    "ax.scatter?"
   ]
  },
  {
   "cell_type": "code",
   "execution_count": null,
   "metadata": {},
   "outputs": [],
   "source": [
    "ax.legend?"
   ]
  },
  {
   "cell_type": "code",
   "execution_count": null,
   "metadata": {},
   "outputs": [],
   "source": [
    "ax.set_yticklabels?"
   ]
  },
  {
   "cell_type": "code",
   "execution_count": null,
   "metadata": {},
   "outputs": [],
   "source": [
    "fig, ax = plt.subplots(figsize=(10, 14))\n",
    "\n",
    "\n",
    "max_electricity = int(np.max(df_bubble[\"Electricity production from coal sources (% of total)\"]))\n",
    "mean_electricity = int(np.mean(df_bubble[\"Electricity production from coal sources (% of total)\"]))\n",
    "big = ax.scatter([], [],\n",
    "                 s=max_electricity,\n",
    "                 label=max_electricity,\n",
    "                 c=\"w\",\n",
    "                 edgecolors=\"k\")\n",
    "medium = ax.scatter([], [],\n",
    "                 s=mean_electricity,\n",
    "                 label=mean_electricity,\n",
    "                 c=\"w\",\n",
    "                 edgecolors=\"k\")\n",
    "ax.legend(title=\"  Coal use\\n(% of Total)\",\n",
    "         bbox_to_anchor=(1,1),\n",
    "         fontsize=15)\n",
    "# crear el scatter plot\n",
    "ax.scatter(df_bubble[\"Date\"],\n",
    "           df_bubble[\"y_axis\"],\n",
    "          s=df_bubble[\"Electricity production from coal sources (% of total)\"],\n",
    "          c=df_bubble[\"y_axis\"],\n",
    "          alpha=0.5)\n",
    "\n",
    "ax.set_yticklabels(y_labels)\n",
    "# Hacer labels más grandes\n",
    "ax.tick_params(labelsize=15)\n",
    "# Definir la legend\n",
    "\n",
    "ax.set_ylabel(\"Country\")\n",
    "ax.set_xlabel(\"Year\")\n",
    "# Crear las anotaciones\n",
    "ax.annotate('Underdeveloped', xy=(-0.1, 0.837), xytext=(-0.4, 0.83), xycoords='axes fraction', \n",
    "            fontsize=15.5, #ha='center', #va='bottom',\n",
    "            bbox=dict(boxstyle='square', fc='white'),\n",
    "            arrowprops=dict(arrowstyle='-[, widthB=6.0, lengthB=2', lw=2.0))\n",
    "ax.annotate('Developing', xy=(-0.1, 0.497), xytext=(-0.4, 0.49), xycoords='axes fraction', \n",
    "            fontsize=15.5, #ha='center', #va='bottom',\n",
    "            bbox=dict(boxstyle='square', fc='white'),\n",
    "            arrowprops=dict(arrowstyle='-[, widthB=6.0, lengthB=2', lw=2.0))\n",
    "ax.annotate('Developed', xy=(-0.1, 0.157), xytext=(-0.4, 0.15), xycoords='axes fraction', \n",
    "            fontsize=15.5, #ha='center', #va='bottom',\n",
    "            bbox=dict(boxstyle='square', fc='white'),\n",
    "            arrowprops=dict(arrowstyle='-[, widthB=6.0, lengthB=2', lw=2.0))\n",
    "\n",
    "fig.savefig(\"bubbles\")"
   ]
  },
  {
   "cell_type": "code",
   "execution_count": null,
   "metadata": {},
   "outputs": [],
   "source": [
    "# SCATTER PLOT STAR. \n",
    "#2.\tDoes renewable energies cause a decrease in the use of fossil fuels?\n",
    "df_countries.head()"
   ]
  },
  {
   "cell_type": "code",
   "execution_count": null,
   "metadata": {},
   "outputs": [],
   "source": [
    "fig, ((ax1, ax2, ax3), (ax4, ax5, ax6), (ax7, ax8, ax9)) = plt.subplots(nrows=3, ncols=3, sharex=True, sharey=True, figsize=(10,5))\n",
    "\n",
    "df_countries[df_countries['Country'] == 'jp'].plot(x='Date', y='Electricity production from coal sources (% of total)', legend=False, ax=ax1)\n",
    "ax1.set_title(\"Japan\")\n",
    "df_countries[df_countries['Country'] == 'fr'].plot(x='Date', y='Electricity production from coal sources (% of total)', legend=False, ax=ax2)\n",
    "ax2.set_title(\"France\")\n",
    "df_countries[df_countries['Country'] == 'gb'].plot(x='Date', y='Electricity production from coal sources (% of total)', legend=False, ax=ax3)\n",
    "ax3.set_title(\"Great Britain\")\n",
    "df_countries[df_countries['Country'] == 'mx'].plot(x='Date', y='Electricity production from coal sources (% of total)', legend=False, ax=ax4)\n",
    "ax4.set_title(\"Mexico\")\n",
    "df_countries[df_countries['Country'] == 'th'].plot(x='Date', y='Electricity production from coal sources (% of total)', legend=False, ax=ax5)\n",
    "ax5.set_title(\"Thailand\")\n",
    "df_countries[df_countries['Country'] == 'tr'].plot(x='Date', y='Electricity production from coal sources (% of total)', legend=False, ax=ax6)\n",
    "ax6.set_title(\"Turkey\")\n",
    "df_countries[df_countries['Country'] == 'ph'].plot(x='Date', y='Electricity production from coal sources (% of total)', legend=False, ax=ax7)\n",
    "ax7.set_title(\"Philiphines\")\n",
    "df_countries[df_countries['Country'] == 'eg'].plot(x='Date', y='Electricity production from coal sources (% of total)', legend=False, ax=ax8)\n",
    "ax8.set_title(\"Egypt\")\n",
    "df_countries[df_countries['Country'] == 'vn'].plot(x='Date', y='Electricity production from coal sources (% of total)', legend=False, ax=ax9)\n",
    "ax9.set_title(\"Vietnam\")\n",
    "\n",
    "plt.tight_layout()\n"
   ]
  },
  {
   "cell_type": "code",
   "execution_count": null,
   "metadata": {},
   "outputs": [],
   "source": [
    "#LINE GRAPH\n",
    "#Which type of countries have grown the most their GDP per capita in the last three decades? selected_countries.head()"
   ]
  },
  {
   "cell_type": "code",
   "execution_count": null,
   "metadata": {},
   "outputs": [],
   "source": [
    "df_gdp = co.countries()\n",
    "df_gdp"
   ]
  },
  {
   "cell_type": "code",
   "execution_count": null,
   "metadata": {},
   "outputs": [],
   "source": [
    "dates = ['2016', '2015', '2014', '2013', '2012', '2011', '2010',\n",
    "          '2005', '2000', '1995']"
   ]
  },
  {
   "cell_type": "code",
   "execution_count": null,
   "metadata": {},
   "outputs": [],
   "source": [
    "df_pollution = df_countries"
   ]
  },
  {
   "cell_type": "code",
   "execution_count": null,
   "metadata": {},
   "outputs": [],
   "source": [
    "list_countries"
   ]
  },
  {
   "cell_type": "code",
   "execution_count": null,
   "metadata": {},
   "outputs": [],
   "source": [
    "df_pollution.head()"
   ]
  },
  {
   "cell_type": "code",
   "execution_count": null,
   "metadata": {},
   "outputs": [],
   "source": [
    "order_index = [df_gdp[df_gdp[\"Country Name\"]==country].index[0] for country in countries]"
   ]
  },
  {
   "cell_type": "code",
   "execution_count": null,
   "metadata": {},
   "outputs": [],
   "source": [
    "order_index"
   ]
  },
  {
   "cell_type": "code",
   "execution_count": null,
   "metadata": {},
   "outputs": [],
   "source": [
    "df_gdp = df_gdp.loc[order_index]"
   ]
  },
  {
   "cell_type": "code",
   "execution_count": null,
   "metadata": {},
   "outputs": [],
   "source": [
    "df_pollution"
   ]
  },
  {
   "cell_type": "code",
   "execution_count": null,
   "metadata": {},
   "outputs": [],
   "source": [
    "#df_pollution.loc[\"2016\", \"France\"]    TRONADO"
   ]
  },
  {
   "cell_type": "code",
   "execution_count": null,
   "metadata": {},
   "outputs": [],
   "source": [
    "#row.loc[sorted(dates)].values     TRONADO"
   ]
  },
  {
   "cell_type": "code",
   "execution_count": null,
   "metadata": {},
   "outputs": [],
   "source": [
    "df_pollution.head(3)"
   ]
  },
  {
   "cell_type": "code",
   "execution_count": null,
   "metadata": {},
   "outputs": [],
   "source": [
    "range(len(dates))"
   ]
  },
  {
   "cell_type": "code",
   "execution_count": null,
   "metadata": {},
   "outputs": [],
   "source": [
    "np.arange(len(dates))"
   ]
  },
  {
   "cell_type": "code",
   "execution_count": null,
   "metadata": {},
   "outputs": [],
   "source": [
    "float?"
   ]
  },
  {
   "cell_type": "code",
   "execution_count": null,
   "metadata": {},
   "outputs": [],
   "source": [
    "ax.scatter?"
   ]
  },
  {
   "cell_type": "code",
   "execution_count": null,
   "metadata": {},
   "outputs": [],
   "source": [
    "#pollution.astype(\"float\")    TRONADO"
   ]
  },
  {
   "cell_type": "code",
   "execution_count": null,
   "metadata": {},
   "outputs": [],
   "source": [
    "markers = {\n",
    "    \"High Development\": \"^\",\n",
    "    \"Medium Development\": \"o\",\n",
    "    \"Low Development\": \"v\"\n",
    "}\n",
    "fechas = ['2016', '2015', '2014', '2013', '2012', '2011', '2010',\n",
    "          '2005', '2000', '1995']\n",
    "fechas = sorted(fechas)\n",
    "fig, ax = plt.subplots(figsize=(14,10))\n",
    "\n",
    "\n",
    "for i, row in df_gdp.iterrows():\n",
    "    dev = row[\"Group\"]\n",
    "    marker = markers[dev]\n",
    "    gdp = row[fechas].values\n",
    "    pais = row[\"Country Name\"]\n",
    "    pollution = df_pollution[pais].values\n",
    "    ax.scatter(np.arange(len(fechas)),\n",
    "              gdp,\n",
    "              s=pollution.astype(\"float\") * 20,\n",
    "              alpha=0.4,\n",
    "              label=pais,\n",
    "              marker=marker)\n",
    "    \n",
    "s1 = ax.scatter([], [], s=np.max(df_pollution[\"Egypt, Arab Rep.\"]),\n",
    "              label=\"Big Pollution\",\n",
    "              c=\"w\",\n",
    "              edgecolors=\"k\")\n",
    "s2 = ax.scatter([], [], s=np.min(df_pollution[\"Egypt, Arab Rep.\"]),\n",
    "              label=\"Small Pollution\",\n",
    "              c=\"w\",\n",
    "              edgecolors=\"k\")\n",
    "lgnd = ax.legend(loc=(1,0.8))\n",
    "lgnd.legendHandles[0]._sizes = [30]\n",
    "lgnd.legendHandles[1]._sizes = [30]\n",
    "lgnd.legendHandles[2]._sizes = [30]\n",
    "lgnd.legendHandles[3]._sizes = [30]\n",
    "lgnd.legendHandles[4]._sizes = [30]\n",
    "lgnd.legendHandles[5]._sizes = [30]       \n",
    "lgnd.legendHandles[6]._sizes = [30]\n",
    "lgnd.legendHandles[7]._sizes = [30]    \n",
    "lgnd.legendHandles[8]._sizes = [30]\n",
    "\n",
    "ax.set_ylabel(\"GDP\", fontsize=20)\n",
    "ax.set_xticks(range(len(fechas)))\n",
    "ax.set_xticklabels(fechas)\n",
    "ax.set_xlabel(\"Year\", fontsize=20)"
   ]
  },
  {
   "cell_type": "code",
   "execution_count": null,
   "metadata": {},
   "outputs": [],
   "source": []
  }
 ],
 "metadata": {
  "kernelspec": {
   "display_name": "Python 3",
   "language": "python",
   "name": "python3"
  },
  "language_info": {
   "codemirror_mode": {
    "name": "ipython",
    "version": 3
   },
   "file_extension": ".py",
   "mimetype": "text/x-python",
   "name": "python",
   "nbconvert_exporter": "python",
   "pygments_lexer": "ipython3",
   "version": "3.7.1"
  }
 },
 "nbformat": 4,
 "nbformat_minor": 2
}
