{
 "cells": [
  {
   "cell_type": "markdown",
   "metadata": {},
   "source": [
    "# Crear DataFrames con la API de worldbank.org"
   ]
  },
  {
   "cell_type": "code",
   "execution_count": 1,
   "metadata": {},
   "outputs": [],
   "source": [
    "import requests\n",
    "import json\n",
    "import pandas as pd\n",
    "import numpy as np"
   ]
  },
  {
   "cell_type": "code",
   "execution_count": 2,
   "metadata": {},
   "outputs": [],
   "source": [
    "country = [\"jp\",\"gb\",\"fr\",\"tr\",\"mx\",\"th\",\"ph\",\"eg\",\"vn\"]\n",
    "id_indicator = ['EG.ELC.ACCS.ZS','EG.ELC.LOSS.ZS','EG.ELC.HYRO.ZS','EG.ELC.RNWX.ZS','EG.ELC.COAL.ZS','EG.ELC.NUCL.ZS',\n",
    "                'EG.ELC.PETR.ZS']\n",
    "mx_bcountry = []\n",
    "mx_jason = []\n",
    "for y in country:\n",
    "    for x in id_indicator:\n",
    "        url = 'http://api.worldbank.org/v2/country/'+y+'/indicators/'+x+'?format=json'\n",
    "        mx_jason.append(requests.get(url).json())\n",
    "    mx_bcountry.append(mx_jason)\n",
    "    mx_jason = []\n",
    "    "
   ]
  },
  {
   "cell_type": "code",
   "execution_count": 11,
   "metadata": {},
   "outputs": [],
   "source": [
    "n_datos = np.arange(0,len(mx_bcountry[0][0][1])) #n de iteraciones para los datos\n",
    "n_id = np.arange(0,len(id_indicator)) #n de iteraciones para indicadores\n",
    "n_country = np.arange(0,len(country))\n",
    "\n",
    "date = []\n",
    "for x in n_datos:\n",
    "    date.append(mx_bcountry[1][0][1][x]['date'])\n",
    "dates = {\"Date\":date}\n"
   ]
  },
  {
   "cell_type": "markdown",
   "metadata": {},
   "source": [
    "## Diccionarios para cada país "
   ]
  },
  {
   "cell_type": "code",
   "execution_count": 4,
   "metadata": {},
   "outputs": [],
   "source": [
    "data = {'Access to electricity (% of population)':[],'Electric power transmission and distribution losses (% of output)':[],\n",
    "        'Electricity production from hydroelectric sources (% of total)':[],\n",
    "        'Electricity production from renewable sources, excluding hydroelectric (% of total)':[],\n",
    "        'Electricity production from coal sources (% of total)':[],'Electricity production from nuclear sources (% of total)':[],\n",
    "        'Electricity production from oil sources (% of total)':[]}\n",
    "data_2 = {'Access to electricity (% of population)':[],'Electric power transmission and distribution losses (% of output)':[],\n",
    "        'Electricity production from hydroelectric sources (% of total)':[],\n",
    "        'Electricity production from renewable sources, excluding hydroelectric (% of total)':[],\n",
    "        'Electricity production from coal sources (% of total)':[],'Electricity production from nuclear sources (% of total)':[],\n",
    "        'Electricity production from oil sources (% of total)':[]}\n",
    "data_3 = {'Access to electricity (% of population)':[],'Electric power transmission and distribution losses (% of output)':[],\n",
    "        'Electricity production from hydroelectric sources (% of total)':[],\n",
    "        'Electricity production from renewable sources, excluding hydroelectric (% of total)':[],\n",
    "        'Electricity production from coal sources (% of total)':[],'Electricity production from nuclear sources (% of total)':[],\n",
    "        'Electricity production from oil sources (% of total)':[]}\n",
    "data_4 = {'Access to electricity (% of population)':[],'Electric power transmission and distribution losses (% of output)':[],\n",
    "        'Electricity production from hydroelectric sources (% of total)':[],\n",
    "        'Electricity production from renewable sources, excluding hydroelectric (% of total)':[],\n",
    "        'Electricity production from coal sources (% of total)':[],'Electricity production from nuclear sources (% of total)':[],\n",
    "        'Electricity production from oil sources (% of total)':[]}\n",
    "data_5 = {'Access to electricity (% of population)':[],'Electric power transmission and distribution losses (% of output)':[],\n",
    "        'Electricity production from hydroelectric sources (% of total)':[],\n",
    "        'Electricity production from renewable sources, excluding hydroelectric (% of total)':[],\n",
    "        'Electricity production from coal sources (% of total)':[],'Electricity production from nuclear sources (% of total)':[],\n",
    "        'Electricity production from oil sources (% of total)':[]}\n",
    "data_6 = {'Access to electricity (% of population)':[],'Electric power transmission and distribution losses (% of output)':[],\n",
    "        'Electricity production from hydroelectric sources (% of total)':[],\n",
    "        'Electricity production from renewable sources, excluding hydroelectric (% of total)':[],\n",
    "        'Electricity production from coal sources (% of total)':[],'Electricity production from nuclear sources (% of total)':[],\n",
    "        'Electricity production from oil sources (% of total)':[]}\n",
    "data_7 = {'Access to electricity (% of population)':[],'Electric power transmission and distribution losses (% of output)':[],\n",
    "        'Electricity production from hydroelectric sources (% of total)':[],\n",
    "        'Electricity production from renewable sources, excluding hydroelectric (% of total)':[],\n",
    "        'Electricity production from coal sources (% of total)':[],'Electricity production from nuclear sources (% of total)':[],\n",
    "        'Electricity production from oil sources (% of total)':[]}\n",
    "data_8 = {'Access to electricity (% of population)':[],'Electric power transmission and distribution losses (% of output)':[],\n",
    "        'Electricity production from hydroelectric sources (% of total)':[],\n",
    "        'Electricity production from renewable sources, excluding hydroelectric (% of total)':[],\n",
    "        'Electricity production from coal sources (% of total)':[],'Electricity production from nuclear sources (% of total)':[],\n",
    "        'Electricity production from oil sources (% of total)':[]}\n",
    "data_9 = {'Access to electricity (% of population)':[],'Electric power transmission and distribution losses (% of output)':[],\n",
    "        'Electricity production from hydroelectric sources (% of total)':[],\n",
    "        'Electricity production from renewable sources, excluding hydroelectric (% of total)':[],\n",
    "        'Electricity production from coal sources (% of total)':[],'Electricity production from nuclear sources (% of total)':[],\n",
    "        'Electricity production from oil sources (% of total)':[]}\n",
    "columns = [*data]\n",
    "datass = [data,data_2,data_3,data_4,data_5,data_6,data_7,data_8,data_9]"
   ]
  },
  {
   "cell_type": "code",
   "execution_count": 5,
   "metadata": {},
   "outputs": [],
   "source": [
    "for z,n in zip(n_country,datass):\n",
    "    for x in n_datos:\n",
    "        for i,j in zip(columns,n_id):\n",
    "            n[i].append(mx_bcountry[z][j][1][x]['value'])"
   ]
  },
  {
   "cell_type": "code",
   "execution_count": 46,
   "metadata": {},
   "outputs": [],
   "source": [
    "data.update(dates)\n",
    "data_2.update(dates)\n",
    "data_3.update(dates)\n",
    "data_4.update(dates)\n",
    "data_5.update(dates)\n",
    "data_6.update(dates)\n",
    "data_7.update(dates)\n",
    "data_8.update(dates)\n",
    "data_9.update(dates)\n",
    "\n",
    "jp = pd.DataFrame(data)\n",
    "gb = pd.DataFrame(data_2)\n",
    "fr = pd.DataFrame(data_3)\n",
    "tr = pd.DataFrame(data_4)\n",
    "mx = pd.DataFrame(data_5)\n",
    "th = pd.DataFrame(data_6)\n",
    "ph = pd.DataFrame(data_7)\n",
    "eg = pd.DataFrame(data_8)\n",
    "vn = pd.DataFrame(data_9)\n"
   ]
  }
 ],
 "metadata": {
  "kernelspec": {
   "display_name": "Python 3",
   "language": "python",
   "name": "python3"
  },
  "language_info": {
   "codemirror_mode": {
    "name": "ipython",
    "version": 3
   },
   "file_extension": ".py",
   "mimetype": "text/x-python",
   "name": "python",
   "nbconvert_exporter": "python",
   "pygments_lexer": "ipython3",
   "version": "3.7.1"
  }
 },
 "nbformat": 4,
 "nbformat_minor": 2
}
